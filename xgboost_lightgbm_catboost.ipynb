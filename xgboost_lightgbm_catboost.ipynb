{
 "cells": [
  {
   "cell_type": "code",
   "execution_count": null,
   "metadata": {
    "colab": {
     "base_uri": "https://localhost:8080/",
     "height": 74
    },
    "id": "B4m3iudHe0vp",
    "outputId": "f76ab4b0-5380-48b6-fa46-52e291e30bfb"
   },
   "outputs": [
    {
     "name": "stderr",
     "output_type": "stream",
     "text": [
      "/usr/local/lib/python3.6/dist-packages/statsmodels/tools/_testing.py:19: FutureWarning: pandas.util.testing is deprecated. Use the functions in the public API at pandas.testing instead.\n",
      "  import pandas.util.testing as tm\n"
     ]
    }
   ],
   "source": [
    "import numpy as np\n",
    "import pandas as pd\n",
    "import matplotlib.pyplot as plt\n",
    "import seaborn as sns\n",
    "from sklearn.model_selection import train_test_split, KFold\n",
    "from sklearn.preprocessing import LabelEncoder\n",
    "from sklearn.metrics import accuracy_score, confusion_matrix, f1_score\n",
    "import xgboost\n",
    "import lightgbm\n",
    "\n",
    "from warnings import filterwarnings\n",
    "filterwarnings('ignore')"
   ]
  },
  {
   "cell_type": "code",
   "execution_count": null,
   "metadata": {
    "colab": {
     "base_uri": "https://localhost:8080/",
     "height": 218
    },
    "id": "Yv2D_V4WfHEI",
    "outputId": "8cc225cd-6e2e-4bcf-80c9-50847ccc7d3a"
   },
   "outputs": [
    {
     "data": {
      "text/html": [
       "<div>\n",
       "<style scoped>\n",
       "    .dataframe tbody tr th:only-of-type {\n",
       "        vertical-align: middle;\n",
       "    }\n",
       "\n",
       "    .dataframe tbody tr th {\n",
       "        vertical-align: top;\n",
       "    }\n",
       "\n",
       "    .dataframe thead th {\n",
       "        text-align: right;\n",
       "    }\n",
       "</style>\n",
       "<table border=\"1\" class=\"dataframe\">\n",
       "  <thead>\n",
       "    <tr style=\"text-align: right;\">\n",
       "      <th></th>\n",
       "      <th>perc_premium_paid_by_cash_credit</th>\n",
       "      <th>age_in_days</th>\n",
       "      <th>Income</th>\n",
       "      <th>Count_3.6_months_late</th>\n",
       "      <th>Count_6.12_months_late</th>\n",
       "      <th>Count_more_than_12_months_late</th>\n",
       "      <th>application_underwriting_score</th>\n",
       "      <th>no_of_premiums_paid</th>\n",
       "      <th>sourcing_channel</th>\n",
       "      <th>residence_area_type</th>\n",
       "      <th>premium</th>\n",
       "      <th>renewal</th>\n",
       "    </tr>\n",
       "  </thead>\n",
       "  <tbody>\n",
       "    <tr>\n",
       "      <th>0</th>\n",
       "      <td>0.429</td>\n",
       "      <td>12058</td>\n",
       "      <td>355060</td>\n",
       "      <td>0.0</td>\n",
       "      <td>0.0</td>\n",
       "      <td>0.0</td>\n",
       "      <td>99.02</td>\n",
       "      <td>13</td>\n",
       "      <td>C</td>\n",
       "      <td>Urban</td>\n",
       "      <td>3300</td>\n",
       "      <td>1</td>\n",
       "    </tr>\n",
       "    <tr>\n",
       "      <th>1</th>\n",
       "      <td>0.917</td>\n",
       "      <td>17531</td>\n",
       "      <td>84140</td>\n",
       "      <td>2.0</td>\n",
       "      <td>3.0</td>\n",
       "      <td>1.0</td>\n",
       "      <td>98.69</td>\n",
       "      <td>7</td>\n",
       "      <td>C</td>\n",
       "      <td>Rural</td>\n",
       "      <td>3300</td>\n",
       "      <td>0</td>\n",
       "    </tr>\n",
       "    <tr>\n",
       "      <th>2</th>\n",
       "      <td>0.049</td>\n",
       "      <td>15341</td>\n",
       "      <td>250510</td>\n",
       "      <td>0.0</td>\n",
       "      <td>0.0</td>\n",
       "      <td>0.0</td>\n",
       "      <td>99.57</td>\n",
       "      <td>9</td>\n",
       "      <td>A</td>\n",
       "      <td>Urban</td>\n",
       "      <td>9600</td>\n",
       "      <td>1</td>\n",
       "    </tr>\n",
       "    <tr>\n",
       "      <th>3</th>\n",
       "      <td>0.052</td>\n",
       "      <td>31400</td>\n",
       "      <td>198680</td>\n",
       "      <td>0.0</td>\n",
       "      <td>0.0</td>\n",
       "      <td>0.0</td>\n",
       "      <td>99.87</td>\n",
       "      <td>12</td>\n",
       "      <td>B</td>\n",
       "      <td>Urban</td>\n",
       "      <td>9600</td>\n",
       "      <td>1</td>\n",
       "    </tr>\n",
       "    <tr>\n",
       "      <th>4</th>\n",
       "      <td>1.000</td>\n",
       "      <td>24829</td>\n",
       "      <td>118400</td>\n",
       "      <td>0.0</td>\n",
       "      <td>0.0</td>\n",
       "      <td>0.0</td>\n",
       "      <td>99.05</td>\n",
       "      <td>11</td>\n",
       "      <td>B</td>\n",
       "      <td>Urban</td>\n",
       "      <td>7500</td>\n",
       "      <td>1</td>\n",
       "    </tr>\n",
       "  </tbody>\n",
       "</table>\n",
       "</div>"
      ],
      "text/plain": [
       "   perc_premium_paid_by_cash_credit  age_in_days  ...  premium  renewal\n",
       "0                             0.429        12058  ...     3300        1\n",
       "1                             0.917        17531  ...     3300        0\n",
       "2                             0.049        15341  ...     9600        1\n",
       "3                             0.052        31400  ...     9600        1\n",
       "4                             1.000        24829  ...     7500        1\n",
       "\n",
       "[5 rows x 12 columns]"
      ]
     },
     "execution_count": 2,
     "metadata": {
      "tags": []
     },
     "output_type": "execute_result"
    }
   ],
   "source": [
    "df = pd.read_csv('train.csv')\n",
    "df.head()"
   ]
  },
  {
   "cell_type": "code",
   "execution_count": null,
   "metadata": {
    "colab": {
     "base_uri": "https://localhost:8080/",
     "height": 72
    },
    "id": "3HhCNnu5f3Zf",
    "outputId": "80cb6632-8700-4d7f-e61f-a3d2e83dd381"
   },
   "outputs": [
    {
     "data": {
      "text/plain": [
       "1    49933\n",
       "0     3303\n",
       "Name: renewal, dtype: int64"
      ]
     },
     "execution_count": 3,
     "metadata": {
      "tags": []
     },
     "output_type": "execute_result"
    }
   ],
   "source": [
    "X = df.drop('renewal', axis=1)\n",
    "y = df['renewal']\n",
    "y.value_counts()"
   ]
  },
  {
   "cell_type": "code",
   "execution_count": null,
   "metadata": {
    "colab": {
     "base_uri": "https://localhost:8080/",
     "height": 235
    },
    "id": "RZxzZn_8gKDu",
    "outputId": "ab54438a-9116-4137-c417-c3680f515894"
   },
   "outputs": [
    {
     "data": {
      "text/plain": [
       "perc_premium_paid_by_cash_credit       0\n",
       "age_in_days                            0\n",
       "Income                                 0\n",
       "Count_3.6_months_late                 64\n",
       "Count_6.12_months_late                64\n",
       "Count_more_than_12_months_late        64\n",
       "application_underwriting_score      1976\n",
       "no_of_premiums_paid                    0\n",
       "sourcing_channel                       0\n",
       "residence_area_type                    0\n",
       "premium                                0\n",
       "dtype: int64"
      ]
     },
     "execution_count": 4,
     "metadata": {
      "tags": []
     },
     "output_type": "execute_result"
    }
   ],
   "source": [
    "# X = X.fillna(-1)\n",
    "X.isnull().sum()"
   ]
  },
  {
   "cell_type": "code",
   "execution_count": null,
   "metadata": {
    "id": "99aH4Hoskbzm"
   },
   "outputs": [],
   "source": [
    "LE = LabelEncoder()\n",
    "for c in X.columns:\n",
    "  if X[c].dtypes=='object':\n",
    "    X[c] = LE.fit_transform(X[c])"
   ]
  },
  {
   "cell_type": "code",
   "execution_count": null,
   "metadata": {
    "id": "ZOAdzm2u1-qI"
   },
   "outputs": [],
   "source": [
    "df_1 = df.sample(frac=1.0) # shuffle"
   ]
  },
  {
   "cell_type": "code",
   "execution_count": null,
   "metadata": {
    "colab": {
     "base_uri": "https://localhost:8080/",
     "height": 35
    },
    "id": "aBy9BdtK2fDU",
    "outputId": "dd4ff52b-2e5a-4c2f-b935-14b95bf40834"
   },
   "outputs": [
    {
     "name": "stdout",
     "output_type": "stream",
     "text": [
      "(37265, 12) (7985, 12) (7986, 12)\n"
     ]
    }
   ],
   "source": [
    "# df_train, df_test, df_valid = np.split(df.sample(frac=1.0), [int(0.7*len(df)), int(0.85*len(df))])\n",
    "# print(df_train.shape, df_test.shape, df_valid.shape)"
   ]
  },
  {
   "cell_type": "code",
   "execution_count": null,
   "metadata": {
    "colab": {
     "base_uri": "https://localhost:8080/",
     "height": 35
    },
    "id": "O68WrucikFA6",
    "outputId": "480da0d9-539a-419a-a371-499c94f8e38a"
   },
   "outputs": [
    {
     "name": "stdout",
     "output_type": "stream",
     "text": [
      "(37265,) (7985,) (7986,)\n"
     ]
    }
   ],
   "source": [
    "Xtrain, Xtest, Ytrain, Ytest = train_test_split(X, y, test_size=0.3) # 70 15 15\n",
    "Xtest, Xvalid, Ytest, Yvalid = train_test_split(Xtest, Ytest, test_size=0.5)\n",
    "print(Ytrain.shape, Ytest.shape, Yvalid.shape)"
   ]
  },
  {
   "cell_type": "code",
   "execution_count": null,
   "metadata": {
    "colab": {
     "base_uri": "https://localhost:8080/",
     "height": 326
    },
    "id": "NvyHmYSpf4NF",
    "outputId": "c949590c-716c-4829-85cd-90ab1fbe1342"
   },
   "outputs": [
    {
     "name": "stdout",
     "output_type": "stream",
     "text": [
      "[0]\tvalidation_0-error:0.186717\tvalidation_1-error:0.190458\n",
      "Multiple eval metrics have been passed: 'validation_1-error' will be used for early stopping.\n",
      "\n",
      "Will train until validation_1-error hasn't improved in 10 rounds.\n",
      "[2]\tvalidation_0-error:0.15006\tvalidation_1-error:0.155647\n",
      "[4]\tvalidation_0-error:0.137985\tvalidation_1-error:0.144503\n",
      "[6]\tvalidation_0-error:0.13718\tvalidation_1-error:0.142625\n",
      "[8]\tvalidation_0-error:0.126875\tvalidation_1-error:0.132732\n",
      "[10]\tvalidation_0-error:0.130686\tvalidation_1-error:0.136865\n",
      "[12]\tvalidation_0-error:0.129907\tvalidation_1-error:0.135988\n",
      "[14]\tvalidation_0-error:0.129532\tvalidation_1-error:0.135738\n",
      "[16]\tvalidation_0-error:0.130605\tvalidation_1-error:0.137741\n",
      "[18]\tvalidation_0-error:0.130739\tvalidation_1-error:0.135988\n",
      "Stopping. Best iteration:\n",
      "[8]\tvalidation_0-error:0.126875\tvalidation_1-error:0.132732\n",
      "\n"
     ]
    },
    {
     "data": {
      "text/plain": [
       "0.35790725326991674"
      ]
     },
     "execution_count": 9,
     "metadata": {
      "tags": []
     },
     "output_type": "execute_result"
    }
   ],
   "source": [
    "import xgboost\n",
    "\n",
    "XGB = xgboost.XGBClassifier(random_state=2020, n_estimators=2000, max_depth=8, colsample_bytree=0.85, missing=None,\n",
    "                            scale_pos_weight=0.1, learning_rate=0.008, reg_alpha=2.01, reg_lambda=0.05, verbosity=1)\n",
    "\n",
    "XGB.fit(Xtrain, Ytrain, eval_set=[(Xtrain, Ytrain),(Xvalid, Yvalid)], verbose=2, early_stopping_rounds=10)\n",
    "pred = XGB.predict(Xtest)\n",
    "f1_score(Ytest, pred, pos_label=0)"
   ]
  },
  {
   "cell_type": "code",
   "execution_count": null,
   "metadata": {
    "colab": {
     "base_uri": "https://localhost:8080/",
     "height": 854
    },
    "id": "Lcv5qJ5mkP6T",
    "outputId": "5d783d9f-0449-4980-96c2-b1f3ed1421cd"
   },
   "outputs": [
    {
     "name": "stdout",
     "output_type": "stream",
     "text": [
      "[0]\tvalidation_0-error:0.159842\tvalidation_1-error:0.173266\n",
      "Multiple eval metrics have been passed: 'validation_1-error' will be used for early stopping.\n",
      "\n",
      "Will train until validation_1-error hasn't improved in 10 rounds.\n",
      "[5]\tvalidation_0-error:0.119969\tvalidation_1-error:0.131114\n",
      "[10]\tvalidation_0-error:0.115661\tvalidation_1-error:0.125855\n",
      "[15]\tvalidation_0-error:0.113883\tvalidation_1-error:0.123676\n",
      "Stopping. Best iteration:\n",
      "[7]\tvalidation_0-error:0.11253\tvalidation_1-error:0.120745\n",
      "\n",
      "[0]\tvalidation_0-error:0.15894\tvalidation_1-error:0.165001\n",
      "Multiple eval metrics have been passed: 'validation_1-error' will be used for early stopping.\n",
      "\n",
      "Will train until validation_1-error hasn't improved in 10 rounds.\n",
      "[5]\tvalidation_0-error:0.130213\tvalidation_1-error:0.137877\n",
      "[10]\tvalidation_0-error:0.120946\tvalidation_1-error:0.129086\n",
      "[15]\tvalidation_0-error:0.121497\tvalidation_1-error:0.131114\n",
      "Stopping. Best iteration:\n",
      "[8]\tvalidation_0-error:0.117314\tvalidation_1-error:0.124277\n",
      "\n",
      "[0]\tvalidation_0-error:0.142886\tvalidation_1-error:0.158614\n",
      "Multiple eval metrics have been passed: 'validation_1-error' will be used for early stopping.\n",
      "\n",
      "Will train until validation_1-error hasn't improved in 10 rounds.\n",
      "[5]\tvalidation_0-error:0.122649\tvalidation_1-error:0.137877\n",
      "[10]\tvalidation_0-error:0.121146\tvalidation_1-error:0.135547\n",
      "[15]\tvalidation_0-error:0.119418\tvalidation_1-error:0.135623\n",
      "[20]\tvalidation_0-error:0.116488\tvalidation_1-error:0.13149\n",
      "Stopping. Best iteration:\n",
      "[11]\tvalidation_0-error:0.116713\tvalidation_1-error:0.130363\n",
      "\n",
      "[0]\tvalidation_0-error:0.13953\tvalidation_1-error:0.146818\n",
      "Multiple eval metrics have been passed: 'validation_1-error' will be used for early stopping.\n",
      "\n",
      "Will train until validation_1-error hasn't improved in 10 rounds.\n",
      "[5]\tvalidation_0-error:0.124477\tvalidation_1-error:0.136674\n",
      "[10]\tvalidation_0-error:0.115711\tvalidation_1-error:0.125629\n",
      "[15]\tvalidation_0-error:0.11754\tvalidation_1-error:0.126982\n",
      "[20]\tvalidation_0-error:0.115736\tvalidation_1-error:0.123525\n",
      "Stopping. Best iteration:\n",
      "[11]\tvalidation_0-error:0.114208\tvalidation_1-error:0.122924\n",
      "\n"
     ]
    },
    {
     "data": {
      "text/plain": [
       "[0.38168526356290877,\n",
       " 0.38005997001499253,\n",
       " 0.347007903650734,\n",
       " 0.3434991974317817]"
      ]
     },
     "execution_count": 109,
     "metadata": {
      "tags": []
     },
     "output_type": "execute_result"
    }
   ],
   "source": [
    "XGB = xgboost.XGBClassifier(random_state=2020, n_estimators=200, max_depth=8, colsample_bytree=0.85, missing=None,\n",
    "                            scale_pos_weight=0.1, learning_rate=0.008, reg_alpha=0.0, reg_lambda=0.0, verbosity=1)\n",
    "\n",
    "ff = []\n",
    "kf = KFold(n_splits=4)\n",
    "for train_index, test_index in kf.split(X):\n",
    "  \n",
    "  Xtrain, Xtest = X.iloc[train_index], X.iloc[test_index]\n",
    "  Ytrain, Ytest = y[train_index], y[test_index]\n",
    "\n",
    "  XGB.fit(Xtrain, Ytrain, eval_set=[(Xtrain, Ytrain),(Xtest, Ytest)], verbose=5, early_stopping_rounds=10)\n",
    "  pred = XGB.predict(Xtest)\n",
    "  ff.append(f1_score(Ytest, pred, pos_label=0))\n",
    "ff.mean()"
   ]
  },
  {
   "cell_type": "code",
   "execution_count": null,
   "metadata": {
    "colab": {
     "base_uri": "https://localhost:8080/",
     "height": 217
    },
    "id": "Bvyfe6hPnvfm",
    "outputId": "5856120b-199f-44eb-e69b-ae080ceb9ddf"
   },
   "outputs": [
    {
     "name": "stdout",
     "output_type": "stream",
     "text": [
      "Training until validation scores don't improve for 50 rounds.\n",
      "[100]\tvalid_0's binary_logloss: 0.220016\n",
      "[200]\tvalid_0's binary_logloss: 0.214525\n",
      "[300]\tvalid_0's binary_logloss: 0.213236\n",
      "[400]\tvalid_0's binary_logloss: 0.212848\n",
      "[500]\tvalid_0's binary_logloss: 0.212585\n",
      "[600]\tvalid_0's binary_logloss: 0.212383\n",
      "[700]\tvalid_0's binary_logloss: 0.212334\n",
      "Early stopping, best iteration is:\n",
      "[727]\tvalid_0's binary_logloss: 0.212313\n",
      "0.0718562874251497\n"
     ]
    }
   ],
   "source": [
    "import lightgbm\n",
    "\n",
    "lgb = lightgbm.LGBMClassifier(random_state=2020, n_estimators=2000, num_leaves=31,\n",
    "                              learning_rate=0.011, colsample_bytree=0.85, max_depth=-1,\n",
    "                              verbose=1, class_weight={0:0.2, 1:0.8})\n",
    "lgb.fit(Xtrain, Ytrain, eval_set=(Xvalid, Yvalid), verbose=100, early_stopping_rounds=50)\n",
    "pred = lgb.predict(Xtest)\n",
    "print(f1_score(Ytest, pred, pos_label=0))"
   ]
  },
  {
   "cell_type": "code",
   "execution_count": null,
   "metadata": {
    "colab": {
     "base_uri": "https://localhost:8080/",
     "height": 35
    },
    "id": "hXrp60LSDAp-",
    "outputId": "9facf7de-a696-4b80-be3c-f40f6f2d0d5a"
   },
   "outputs": [
    {
     "data": {
      "text/plain": [
       "501"
      ]
     },
     "execution_count": 11,
     "metadata": {
      "tags": []
     },
     "output_type": "execute_result"
    }
   ],
   "source": [
    "lgb.best_iteration_"
   ]
  },
  {
   "cell_type": "code",
   "execution_count": null,
   "metadata": {
    "colab": {
     "base_uri": "https://localhost:8080/",
     "height": 437
    },
    "id": "dCzvu_-Eqj4t",
    "outputId": "3dd4254e-fa7c-4d18-cc42-4feab344a341"
   },
   "outputs": [
    {
     "data": {
      "image/png": "[encoded data removed]",
      "text/plain": [
       "<Figure size 576x432 with 1 Axes>"
      ]
     },
     "metadata": {
      "needs_background": "light",
      "tags": []
     },
     "output_type": "display_data"
    }
   ],
   "source": [
    "imp = pd.DataFrame({'Importance':lgb.feature_importances_,'Feature':X.columns})\n",
    "plt.figure(figsize=(8, 6))\n",
    "sns.set(font_scale = 1)\n",
    "sns.barplot(x=\"Importance\", y=\"Feature\", data=imp.sort_values(by=\"Importance\", ascending=False))\n",
    "plt.title('LightGBM Features')\n",
    "plt.tight_layout()\n",
    "plt.show()"
   ]
  },
  {
   "cell_type": "code",
   "execution_count": null,
   "metadata": {
    "colab": {
     "base_uri": "https://localhost:8080/",
     "height": 163
    },
    "id": "gEVxLdoyq4Dv",
    "outputId": "d94d0550-51fd-4f29-a855-6f11e9d8462a"
   },
   "outputs": [
    {
     "data": {
      "text/plain": [
       "XGBClassifier(base_score=0.5, booster='gbtree', colsample_bylevel=1,\n",
       "              colsample_bynode=1, colsample_bytree=0.85, gamma=0,\n",
       "              importance='gain', learning_rate=0.008, max_delta_step=0,\n",
       "              max_depth=8, min_child_weight=1, missing=None, n_estimators=200,\n",
       "              n_jobs=1, nthread=None, objective='binary:logistic',\n",
       "              random_state=2020, reg_alpha=0.0, reg_lambda=0.0,\n",
       "              scale_pos_weight=0.1, seed=None, silent=None, subsample=1,\n",
       "              verbosity=1)"
      ]
     },
     "execution_count": 17,
     "metadata": {
      "tags": []
     },
     "output_type": "execute_result"
    }
   ],
   "source": [
    "XGB = xgboost.XGBClassifier(random_state=2020, n_estimators=200, max_depth=8, colsample_bytree=0.85, missing=None, importance='gain',\n",
    "                            scale_pos_weight=0.1, learning_rate=0.008, reg_alpha=0.0, reg_lambda=0.0, verbosity=1)\n",
    "XGB.fit(X, y)"
   ]
  },
  {
   "cell_type": "code",
   "execution_count": null,
   "metadata": {
    "id": "VSRoDggvvymU"
   },
   "outputs": [],
   "source": [
    "imp = pd.DataFrame({'Importance':XGB.feature_importances_,'Feature':X.columns})\n",
    "plt.figure(figsize=(8, 6))\n",
    "sns.set(font_scale = 1)\n",
    "sns.barplot(x=\"Importance\", y=\"Feature\", data=imp.sort_values(by=\"Importance\", ascending=False))\n",
    "plt.title('LightGBM Features')\n",
    "plt.tight_layout()\n",
    "plt.show()"
   ]
  },
  {
   "cell_type": "code",
   "execution_count": null,
   "metadata": {
    "colab": {
     "base_uri": "https://localhost:8080/",
     "height": 339
    },
    "id": "8DxE-NVuwbFt",
    "outputId": "be63d727-34ef-496a-df76-3199ef424d91"
   },
   "outputs": [
    {
     "name": "stdout",
     "output_type": "stream",
     "text": [
      "Collecting catboost\n",
      "\u001b[?25l  Downloading https://files.pythonhosted.org/packages/94/ec/12b9a42b2ea7dfe5b602f235692ab2b61ee1334ff34334a15902272869e8/catboost-0.22-cp36-none-manylinux1_x86_64.whl (64.4MB)\n",
      "\u001b[K     |████████████████████████████████| 64.4MB 60kB/s \n",
      "\u001b[?25hRequirement already satisfied: six in /usr/local/lib/python3.6/dist-packages (from catboost) (1.12.0)\n",
      "Requirement already satisfied: plotly in /usr/local/lib/python3.6/dist-packages (from catboost) (4.4.1)\n",
      "Requirement already satisfied: graphviz in /usr/local/lib/python3.6/dist-packages (from catboost) (0.10.1)\n",
      "Requirement already satisfied: numpy>=1.16.0 in /usr/local/lib/python3.6/dist-packages (from catboost) (1.18.2)\n",
      "Requirement already satisfied: scipy in /usr/local/lib/python3.6/dist-packages (from catboost) (1.4.1)\n",
      "Requirement already satisfied: matplotlib in /usr/local/lib/python3.6/dist-packages (from catboost) (3.2.1)\n",
      "Requirement already satisfied: pandas>=0.24.0 in /usr/local/lib/python3.6/dist-packages (from catboost) (1.0.3)\n",
      "Requirement already satisfied: retrying>=1.3.3 in /usr/local/lib/python3.6/dist-packages (from plotly->catboost) (1.3.3)\n",
      "Requirement already satisfied: python-dateutil>=2.1 in /usr/local/lib/python3.6/dist-packages (from matplotlib->catboost) (2.8.1)\n",
      "Requirement already satisfied: cycler>=0.10 in /usr/local/lib/python3.6/dist-packages (from matplotlib->catboost) (0.10.0)\n",
      "Requirement already satisfied: kiwisolver>=1.0.1 in /usr/local/lib/python3.6/dist-packages (from matplotlib->catboost) (1.2.0)\n",
      "Requirement already satisfied: pyparsing!=2.0.4,!=2.1.2,!=2.1.6,>=2.0.1 in /usr/local/lib/python3.6/dist-packages (from matplotlib->catboost) (2.4.7)\n",
      "Requirement already satisfied: pytz>=2017.2 in /usr/local/lib/python3.6/dist-packages (from pandas>=0.24.0->catboost) (2018.9)\n",
      "Installing collected packages: catboost\n",
      "Successfully installed catboost-0.22\n"
     ]
    }
   ],
   "source": [
    "!pip install catboost"
   ]
  },
  {
   "cell_type": "code",
   "execution_count": null,
   "metadata": {
    "colab": {
     "base_uri": "https://localhost:8080/",
     "height": 386
    },
    "id": "-rl1G5F_v2up",
    "outputId": "a99fe0a4-4c11-4b4e-93af-b8a4841e3851"
   },
   "outputs": [
    {
     "name": "stdout",
     "output_type": "stream",
     "text": [
      "0:\tlearn: 0.5577112\ttotal: 38.9ms\tremaining: 7.74s\n",
      "10:\tlearn: 0.2127082\ttotal: 390ms\tremaining: 6.71s\n",
      "20:\tlearn: 0.1853554\ttotal: 760ms\tremaining: 6.47s\n",
      "30:\tlearn: 0.1788380\ttotal: 1.12s\tremaining: 6.11s\n",
      "40:\tlearn: 0.1767729\ttotal: 1.48s\tremaining: 5.75s\n",
      "50:\tlearn: 0.1756472\ttotal: 1.84s\tremaining: 5.38s\n",
      "60:\tlearn: 0.1748355\ttotal: 2.22s\tremaining: 5.07s\n",
      "70:\tlearn: 0.1739057\ttotal: 2.6s\tremaining: 4.72s\n",
      "80:\tlearn: 0.1732338\ttotal: 2.98s\tremaining: 4.38s\n",
      "90:\tlearn: 0.1725535\ttotal: 3.35s\tremaining: 4.01s\n",
      "100:\tlearn: 0.1719278\ttotal: 3.72s\tremaining: 3.64s\n",
      "110:\tlearn: 0.1713583\ttotal: 4.13s\tremaining: 3.31s\n",
      "120:\tlearn: 0.1707522\ttotal: 4.5s\tremaining: 2.94s\n",
      "130:\tlearn: 0.1700818\ttotal: 4.85s\tremaining: 2.56s\n",
      "140:\tlearn: 0.1696323\ttotal: 5.21s\tremaining: 2.18s\n",
      "150:\tlearn: 0.1691463\ttotal: 5.57s\tremaining: 1.81s\n",
      "160:\tlearn: 0.1687425\ttotal: 5.92s\tremaining: 1.43s\n",
      "170:\tlearn: 0.1683256\ttotal: 6.25s\tremaining: 1.06s\n",
      "180:\tlearn: 0.1681054\ttotal: 6.57s\tremaining: 690ms\n",
      "190:\tlearn: 0.1676857\ttotal: 6.91s\tremaining: 326ms\n",
      "199:\tlearn: 0.1672469\ttotal: 7.26s\tremaining: 0us\n"
     ]
    },
    {
     "data": {
      "text/plain": [
       "0.21479713603818615"
      ]
     },
     "execution_count": 95,
     "metadata": {
      "tags": []
     },
     "output_type": "execute_result"
    }
   ],
   "source": [
    "from catboost import CatBoostClassifier\n",
    "cat_features = ['sourcing_channel', 'residence_area_type']\n",
    "model = CatBoostClassifier(iterations=200, learning_rate=0.1, depth=5, cat_features=cat_features)\n",
    "model.fit(Xtrain, Ytrain, eval_set=(Xtest, Ytest), verbose=10, early_stopping_rounds=50)\n",
    "pred = model.predict(Xtest)\n",
    "f1_score(pred, Ytest, pos_label=0)"
   ]
  },
  {
   "cell_type": "code",
   "execution_count": null,
   "metadata": {
    "colab": {
     "base_uri": "https://localhost:8080/",
     "height": 50
    },
    "id": "PVD6Zvu7wYZ3",
    "outputId": "6bfc1f87-b5d4-4a59-ca0f-a41eae1b2a72"
   },
   "outputs": [
    {
     "data": {
      "text/plain": [
       "array([0.97935197, 0.97487266, 0.97842644, ..., 0.954956  , 0.96662319,\n",
       "       0.97466215])"
      ]
     },
     "execution_count": 90,
     "metadata": {
      "tags": []
     },
     "output_type": "execute_result"
    }
   ],
   "source": [
    "pred"
   ]
  },
  {
   "cell_type": "code",
   "execution_count": null,
   "metadata": {
    "id": "mr6zWStlwlzK"
   },
   "outputs": [],
   "source": []
  }
 ],
 "metadata": {
  "colab": {
   "collapsed_sections": [],
   "name": "pro02.ipynb",
   "provenance": []
  },
  "kernelspec": {
   "display_name": "Python 3 (ipykernel)",
   "language": "python",
   "name": "python3"
  },
  "language_info": {
   "codemirror_mode": {
    "name": "ipython",
    "version": 3
   },
   "file_extension": ".py",
   "mimetype": "text/x-python",
   "name": "python",
   "nbconvert_exporter": "python",
   "pygments_lexer": "ipython3",
   "version": "3.9.12"
  }
 },
 "nbformat": 4,
 "nbformat_minor": 1
}
